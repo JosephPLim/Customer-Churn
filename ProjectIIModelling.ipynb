{
  "nbformat": 4,
  "nbformat_minor": 0,
  "metadata": {
    "colab": {
      "provenance": [],
      "authorship_tag": "ABX9TyO0/rStXufsCjujjHco4bFI",
      "include_colab_link": true
    },
    "kernelspec": {
      "name": "python3",
      "display_name": "Python 3"
    },
    "language_info": {
      "name": "python"
    }
  },
  "cells": [
    {
      "cell_type": "markdown",
      "metadata": {
        "id": "view-in-github",
        "colab_type": "text"
      },
      "source": [
        "<a href=\"https://colab.research.google.com/github/JosephPLim/Project-Classification/blob/main/ProjectIIModelling.ipynb\" target=\"_parent\"><img src=\"https://colab.research.google.com/assets/colab-badge.svg\" alt=\"Open In Colab\"/></a>"
      ]
    },
    {
      "cell_type": "markdown",
      "source": [
        "#Project II : Predicting Churn in Telephone Customers\n",
        "##Student: Joseph Lim\n",
        "\n",
        "This project aims to predict whether or not telephone customers will \"churn\" (leave) from a given phone company. The full dataset is [from Kaggle](https://www.kaggle.com/competitions/customer-churn-prediction-2020). Each row represents one customer, their data, and whether or not they churned. "
      ],
      "metadata": {
        "id": "BZOnHyrGrcNi"
      }
    },
    {
      "cell_type": "markdown",
      "source": [
        "##Data Loading & Cleaning"
      ],
      "metadata": {
        "id": "XcLxLwda_za0"
      }
    },
    {
      "cell_type": "markdown",
      "source": [
        "###Import Libraries and File"
      ],
      "metadata": {
        "id": "PEjFel3gCOcR"
      }
    },
    {
      "cell_type": "code",
      "execution_count": 1,
      "metadata": {
        "id": "bioL8xbLrE_i"
      },
      "outputs": [],
      "source": [
        "#Basic Pandas and Numpy\n",
        "import numpy as np\n",
        "import pandas as pd\n",
        "\n",
        "#EDA\n",
        "import matplotlib.pyplot as plt\n",
        "import seaborn as sns\n",
        "from sklearn.metrics import ConfusionMatrixDisplay\n",
        "\n",
        "#Pre-Processing libraries\n",
        "from sklearn.preprocessing import StandardScaler, OneHotEncoder\n",
        "from sklearn.model_selection import train_test_split\n",
        "from sklearn.compose import make_column_selector, make_column_transformer\n",
        "from sklearn.pipeline import make_pipeline\n",
        "from sklearn import set_config\n",
        "set_config(display='diagram')\n",
        "\n",
        "#Classification Libraries\n",
        "from sklearn.tree import DecisionTreeClassifier\n",
        "from sklearn.linear_model import LogisticRegression\n",
        "\n",
        "#Metrics\n",
        "from sklearn import metrics\n",
        "\n",
        "from sklearn.decomposition import PCA\n",
        "from sklearn.model_selection import GridSearchCV"
      ]
    },
    {
      "cell_type": "code",
      "source": [
        "#Importing Google Colab and Mounting Drive\n",
        "from google.colab import drive\n",
        "drive.mount('/content/drive/')"
      ],
      "metadata": {
        "id": "q0yw-flsrZ6k",
        "colab": {
          "base_uri": "https://localhost:8080/"
        },
        "outputId": "4ab21196-8eb0-46f2-8255-6a090c0efd58"
      },
      "execution_count": 2,
      "outputs": [
        {
          "output_type": "stream",
          "name": "stdout",
          "text": [
            "Drive already mounted at /content/drive/; to attempt to forcibly remount, call drive.mount(\"/content/drive/\", force_remount=True).\n"
          ]
        }
      ]
    },
    {
      "cell_type": "code",
      "source": [
        "#Loading Data\n",
        "filename = \"/content/drive/MyDrive/eLearning/CodingDojo - Data Science/Portfolio Projects/train.csv\"\n",
        "df = pd.read_csv(filename)"
      ],
      "metadata": {
        "id": "QzvJTteX_LpW"
      },
      "execution_count": 3,
      "outputs": []
    },
    {
      "cell_type": "markdown",
      "source": [
        "###Preliminary Data Cleaning\n",
        "* Duplicate Check\n",
        "* Categorical Inconsistencies Check\n",
        "* Numerical Outliers Check\n",
        "* Missing Values Check\n",
        "\n"
      ],
      "metadata": {
        "id": "LN9ZT3ReCRlU"
      }
    },
    {
      "cell_type": "code",
      "source": [
        "#Currently no columns that need to be removed\n",
        "df.head()"
      ],
      "metadata": {
        "id": "ztPSDGEcCWIb",
        "colab": {
          "base_uri": "https://localhost:8080/",
          "height": 270
        },
        "outputId": "4f091724-9751-4a68-b515-2429ab54513e"
      },
      "execution_count": 4,
      "outputs": [
        {
          "output_type": "execute_result",
          "data": {
            "text/plain": [
              "  state  account_length      area_code international_plan voice_mail_plan  \\\n",
              "0    OH             107  area_code_415                 no             yes   \n",
              "1    NJ             137  area_code_415                 no              no   \n",
              "2    OH              84  area_code_408                yes              no   \n",
              "3    OK              75  area_code_415                yes              no   \n",
              "4    MA             121  area_code_510                 no             yes   \n",
              "\n",
              "   number_vmail_messages  total_day_minutes  total_day_calls  \\\n",
              "0                     26              161.6              123   \n",
              "1                      0              243.4              114   \n",
              "2                      0              299.4               71   \n",
              "3                      0              166.7              113   \n",
              "4                     24              218.2               88   \n",
              "\n",
              "   total_day_charge  total_eve_minutes  total_eve_calls  total_eve_charge  \\\n",
              "0             27.47              195.5              103             16.62   \n",
              "1             41.38              121.2              110             10.30   \n",
              "2             50.90               61.9               88              5.26   \n",
              "3             28.34              148.3              122             12.61   \n",
              "4             37.09              348.5              108             29.62   \n",
              "\n",
              "   total_night_minutes  total_night_calls  total_night_charge  \\\n",
              "0                254.4                103               11.45   \n",
              "1                162.6                104                7.32   \n",
              "2                196.9                 89                8.86   \n",
              "3                186.9                121                8.41   \n",
              "4                212.6                118                9.57   \n",
              "\n",
              "   total_intl_minutes  total_intl_calls  total_intl_charge  \\\n",
              "0                13.7                 3               3.70   \n",
              "1                12.2                 5               3.29   \n",
              "2                 6.6                 7               1.78   \n",
              "3                10.1                 3               2.73   \n",
              "4                 7.5                 7               2.03   \n",
              "\n",
              "   number_customer_service_calls churn  \n",
              "0                              1    no  \n",
              "1                              0    no  \n",
              "2                              2    no  \n",
              "3                              3    no  \n",
              "4                              3    no  "
            ],
            "text/html": [
              "\n",
              "  <div id=\"df-e3c52870-678c-43b0-83e9-dd8bf2a93870\">\n",
              "    <div class=\"colab-df-container\">\n",
              "      <div>\n",
              "<style scoped>\n",
              "    .dataframe tbody tr th:only-of-type {\n",
              "        vertical-align: middle;\n",
              "    }\n",
              "\n",
              "    .dataframe tbody tr th {\n",
              "        vertical-align: top;\n",
              "    }\n",
              "\n",
              "    .dataframe thead th {\n",
              "        text-align: right;\n",
              "    }\n",
              "</style>\n",
              "<table border=\"1\" class=\"dataframe\">\n",
              "  <thead>\n",
              "    <tr style=\"text-align: right;\">\n",
              "      <th></th>\n",
              "      <th>state</th>\n",
              "      <th>account_length</th>\n",
              "      <th>area_code</th>\n",
              "      <th>international_plan</th>\n",
              "      <th>voice_mail_plan</th>\n",
              "      <th>number_vmail_messages</th>\n",
              "      <th>total_day_minutes</th>\n",
              "      <th>total_day_calls</th>\n",
              "      <th>total_day_charge</th>\n",
              "      <th>total_eve_minutes</th>\n",
              "      <th>total_eve_calls</th>\n",
              "      <th>total_eve_charge</th>\n",
              "      <th>total_night_minutes</th>\n",
              "      <th>total_night_calls</th>\n",
              "      <th>total_night_charge</th>\n",
              "      <th>total_intl_minutes</th>\n",
              "      <th>total_intl_calls</th>\n",
              "      <th>total_intl_charge</th>\n",
              "      <th>number_customer_service_calls</th>\n",
              "      <th>churn</th>\n",
              "    </tr>\n",
              "  </thead>\n",
              "  <tbody>\n",
              "    <tr>\n",
              "      <th>0</th>\n",
              "      <td>OH</td>\n",
              "      <td>107</td>\n",
              "      <td>area_code_415</td>\n",
              "      <td>no</td>\n",
              "      <td>yes</td>\n",
              "      <td>26</td>\n",
              "      <td>161.6</td>\n",
              "      <td>123</td>\n",
              "      <td>27.47</td>\n",
              "      <td>195.5</td>\n",
              "      <td>103</td>\n",
              "      <td>16.62</td>\n",
              "      <td>254.4</td>\n",
              "      <td>103</td>\n",
              "      <td>11.45</td>\n",
              "      <td>13.7</td>\n",
              "      <td>3</td>\n",
              "      <td>3.70</td>\n",
              "      <td>1</td>\n",
              "      <td>no</td>\n",
              "    </tr>\n",
              "    <tr>\n",
              "      <th>1</th>\n",
              "      <td>NJ</td>\n",
              "      <td>137</td>\n",
              "      <td>area_code_415</td>\n",
              "      <td>no</td>\n",
              "      <td>no</td>\n",
              "      <td>0</td>\n",
              "      <td>243.4</td>\n",
              "      <td>114</td>\n",
              "      <td>41.38</td>\n",
              "      <td>121.2</td>\n",
              "      <td>110</td>\n",
              "      <td>10.30</td>\n",
              "      <td>162.6</td>\n",
              "      <td>104</td>\n",
              "      <td>7.32</td>\n",
              "      <td>12.2</td>\n",
              "      <td>5</td>\n",
              "      <td>3.29</td>\n",
              "      <td>0</td>\n",
              "      <td>no</td>\n",
              "    </tr>\n",
              "    <tr>\n",
              "      <th>2</th>\n",
              "      <td>OH</td>\n",
              "      <td>84</td>\n",
              "      <td>area_code_408</td>\n",
              "      <td>yes</td>\n",
              "      <td>no</td>\n",
              "      <td>0</td>\n",
              "      <td>299.4</td>\n",
              "      <td>71</td>\n",
              "      <td>50.90</td>\n",
              "      <td>61.9</td>\n",
              "      <td>88</td>\n",
              "      <td>5.26</td>\n",
              "      <td>196.9</td>\n",
              "      <td>89</td>\n",
              "      <td>8.86</td>\n",
              "      <td>6.6</td>\n",
              "      <td>7</td>\n",
              "      <td>1.78</td>\n",
              "      <td>2</td>\n",
              "      <td>no</td>\n",
              "    </tr>\n",
              "    <tr>\n",
              "      <th>3</th>\n",
              "      <td>OK</td>\n",
              "      <td>75</td>\n",
              "      <td>area_code_415</td>\n",
              "      <td>yes</td>\n",
              "      <td>no</td>\n",
              "      <td>0</td>\n",
              "      <td>166.7</td>\n",
              "      <td>113</td>\n",
              "      <td>28.34</td>\n",
              "      <td>148.3</td>\n",
              "      <td>122</td>\n",
              "      <td>12.61</td>\n",
              "      <td>186.9</td>\n",
              "      <td>121</td>\n",
              "      <td>8.41</td>\n",
              "      <td>10.1</td>\n",
              "      <td>3</td>\n",
              "      <td>2.73</td>\n",
              "      <td>3</td>\n",
              "      <td>no</td>\n",
              "    </tr>\n",
              "    <tr>\n",
              "      <th>4</th>\n",
              "      <td>MA</td>\n",
              "      <td>121</td>\n",
              "      <td>area_code_510</td>\n",
              "      <td>no</td>\n",
              "      <td>yes</td>\n",
              "      <td>24</td>\n",
              "      <td>218.2</td>\n",
              "      <td>88</td>\n",
              "      <td>37.09</td>\n",
              "      <td>348.5</td>\n",
              "      <td>108</td>\n",
              "      <td>29.62</td>\n",
              "      <td>212.6</td>\n",
              "      <td>118</td>\n",
              "      <td>9.57</td>\n",
              "      <td>7.5</td>\n",
              "      <td>7</td>\n",
              "      <td>2.03</td>\n",
              "      <td>3</td>\n",
              "      <td>no</td>\n",
              "    </tr>\n",
              "  </tbody>\n",
              "</table>\n",
              "</div>\n",
              "      <button class=\"colab-df-convert\" onclick=\"convertToInteractive('df-e3c52870-678c-43b0-83e9-dd8bf2a93870')\"\n",
              "              title=\"Convert this dataframe to an interactive table.\"\n",
              "              style=\"display:none;\">\n",
              "        \n",
              "  <svg xmlns=\"http://www.w3.org/2000/svg\" height=\"24px\"viewBox=\"0 0 24 24\"\n",
              "       width=\"24px\">\n",
              "    <path d=\"M0 0h24v24H0V0z\" fill=\"none\"/>\n",
              "    <path d=\"M18.56 5.44l.94 2.06.94-2.06 2.06-.94-2.06-.94-.94-2.06-.94 2.06-2.06.94zm-11 1L8.5 8.5l.94-2.06 2.06-.94-2.06-.94L8.5 2.5l-.94 2.06-2.06.94zm10 10l.94 2.06.94-2.06 2.06-.94-2.06-.94-.94-2.06-.94 2.06-2.06.94z\"/><path d=\"M17.41 7.96l-1.37-1.37c-.4-.4-.92-.59-1.43-.59-.52 0-1.04.2-1.43.59L10.3 9.45l-7.72 7.72c-.78.78-.78 2.05 0 2.83L4 21.41c.39.39.9.59 1.41.59.51 0 1.02-.2 1.41-.59l7.78-7.78 2.81-2.81c.8-.78.8-2.07 0-2.86zM5.41 20L4 18.59l7.72-7.72 1.47 1.35L5.41 20z\"/>\n",
              "  </svg>\n",
              "      </button>\n",
              "      \n",
              "  <style>\n",
              "    .colab-df-container {\n",
              "      display:flex;\n",
              "      flex-wrap:wrap;\n",
              "      gap: 12px;\n",
              "    }\n",
              "\n",
              "    .colab-df-convert {\n",
              "      background-color: #E8F0FE;\n",
              "      border: none;\n",
              "      border-radius: 50%;\n",
              "      cursor: pointer;\n",
              "      display: none;\n",
              "      fill: #1967D2;\n",
              "      height: 32px;\n",
              "      padding: 0 0 0 0;\n",
              "      width: 32px;\n",
              "    }\n",
              "\n",
              "    .colab-df-convert:hover {\n",
              "      background-color: #E2EBFA;\n",
              "      box-shadow: 0px 1px 2px rgba(60, 64, 67, 0.3), 0px 1px 3px 1px rgba(60, 64, 67, 0.15);\n",
              "      fill: #174EA6;\n",
              "    }\n",
              "\n",
              "    [theme=dark] .colab-df-convert {\n",
              "      background-color: #3B4455;\n",
              "      fill: #D2E3FC;\n",
              "    }\n",
              "\n",
              "    [theme=dark] .colab-df-convert:hover {\n",
              "      background-color: #434B5C;\n",
              "      box-shadow: 0px 1px 3px 1px rgba(0, 0, 0, 0.15);\n",
              "      filter: drop-shadow(0px 1px 2px rgba(0, 0, 0, 0.3));\n",
              "      fill: #FFFFFF;\n",
              "    }\n",
              "  </style>\n",
              "\n",
              "      <script>\n",
              "        const buttonEl =\n",
              "          document.querySelector('#df-e3c52870-678c-43b0-83e9-dd8bf2a93870 button.colab-df-convert');\n",
              "        buttonEl.style.display =\n",
              "          google.colab.kernel.accessAllowed ? 'block' : 'none';\n",
              "\n",
              "        async function convertToInteractive(key) {\n",
              "          const element = document.querySelector('#df-e3c52870-678c-43b0-83e9-dd8bf2a93870');\n",
              "          const dataTable =\n",
              "            await google.colab.kernel.invokeFunction('convertToInteractive',\n",
              "                                                     [key], {});\n",
              "          if (!dataTable) return;\n",
              "\n",
              "          const docLinkHtml = 'Like what you see? Visit the ' +\n",
              "            '<a target=\"_blank\" href=https://colab.research.google.com/notebooks/data_table.ipynb>data table notebook</a>'\n",
              "            + ' to learn more about interactive tables.';\n",
              "          element.innerHTML = '';\n",
              "          dataTable['output_type'] = 'display_data';\n",
              "          await google.colab.output.renderOutput(dataTable, element);\n",
              "          const docLink = document.createElement('div');\n",
              "          docLink.innerHTML = docLinkHtml;\n",
              "          element.appendChild(docLink);\n",
              "        }\n",
              "      </script>\n",
              "    </div>\n",
              "  </div>\n",
              "  "
            ]
          },
          "metadata": {},
          "execution_count": 4
        }
      ]
    },
    {
      "cell_type": "code",
      "source": [
        "#Checking for duplicated rows\n",
        "df.duplicated().sum()"
      ],
      "metadata": {
        "id": "JSnGJeLDDm6S",
        "colab": {
          "base_uri": "https://localhost:8080/"
        },
        "outputId": "f4bd5832-0772-4d6a-fbe7-c03a8cabbb5c"
      },
      "execution_count": 5,
      "outputs": [
        {
          "output_type": "execute_result",
          "data": {
            "text/plain": [
              "0"
            ]
          },
          "metadata": {},
          "execution_count": 5
        }
      ]
    },
    {
      "cell_type": "code",
      "source": [
        "df.dtypes"
      ],
      "metadata": {
        "id": "x47-bu2PE08Y",
        "colab": {
          "base_uri": "https://localhost:8080/"
        },
        "outputId": "4d84d37c-dbbc-4946-cd73-32082790a346"
      },
      "execution_count": 6,
      "outputs": [
        {
          "output_type": "execute_result",
          "data": {
            "text/plain": [
              "state                             object\n",
              "account_length                     int64\n",
              "area_code                         object\n",
              "international_plan                object\n",
              "voice_mail_plan                   object\n",
              "number_vmail_messages              int64\n",
              "total_day_minutes                float64\n",
              "total_day_calls                    int64\n",
              "total_day_charge                 float64\n",
              "total_eve_minutes                float64\n",
              "total_eve_calls                    int64\n",
              "total_eve_charge                 float64\n",
              "total_night_minutes              float64\n",
              "total_night_calls                  int64\n",
              "total_night_charge               float64\n",
              "total_intl_minutes               float64\n",
              "total_intl_calls                   int64\n",
              "total_intl_charge                float64\n",
              "number_customer_service_calls      int64\n",
              "churn                             object\n",
              "dtype: object"
            ]
          },
          "metadata": {},
          "execution_count": 6
        }
      ]
    },
    {
      "cell_type": "code",
      "source": [
        "#Checking for inconsistencies in categorical values\n",
        "for row in df:\n",
        "  if df[row].dtypes == \"object\":\n",
        "    print(df[row].value_counts())\n",
        "    print(\"\")"
      ],
      "metadata": {
        "id": "s04l7j02DuL4",
        "colab": {
          "base_uri": "https://localhost:8080/"
        },
        "outputId": "58b095cd-3f3f-40b0-d1a7-daa268cea242"
      },
      "execution_count": 7,
      "outputs": [
        {
          "output_type": "stream",
          "name": "stdout",
          "text": [
            "WV    139\n",
            "MN    108\n",
            "ID    106\n",
            "AL    101\n",
            "VA    100\n",
            "OR     99\n",
            "TX     98\n",
            "UT     97\n",
            "NY     96\n",
            "NJ     96\n",
            "WY     95\n",
            "OH     95\n",
            "WI     94\n",
            "MA     89\n",
            "ME     89\n",
            "CT     88\n",
            "RI     87\n",
            "MI     87\n",
            "KS     87\n",
            "MD     86\n",
            "VT     86\n",
            "KY     85\n",
            "NV     83\n",
            "IN     83\n",
            "MS     82\n",
            "WA     80\n",
            "NC     80\n",
            "MO     80\n",
            "DE     80\n",
            "CO     80\n",
            "MT     80\n",
            "IL     79\n",
            "TN     79\n",
            "NM     78\n",
            "OK     78\n",
            "NH     78\n",
            "HI     77\n",
            "AZ     77\n",
            "FL     76\n",
            "SD     75\n",
            "NE     73\n",
            "DC     72\n",
            "SC     72\n",
            "AR     71\n",
            "LA     69\n",
            "PA     67\n",
            "ND     67\n",
            "GA     64\n",
            "IA     62\n",
            "AK     61\n",
            "CA     39\n",
            "Name: state, dtype: int64\n",
            "\n",
            "area_code_415    2108\n",
            "area_code_408    1086\n",
            "area_code_510    1056\n",
            "Name: area_code, dtype: int64\n",
            "\n",
            "no     3854\n",
            "yes     396\n",
            "Name: international_plan, dtype: int64\n",
            "\n",
            "no     3138\n",
            "yes    1112\n",
            "Name: voice_mail_plan, dtype: int64\n",
            "\n",
            "no     3652\n",
            "yes     598\n",
            "Name: churn, dtype: int64\n",
            "\n"
          ]
        }
      ]
    },
    {
      "cell_type": "code",
      "source": [
        "df.describe()"
      ],
      "metadata": {
        "id": "M0ICrW6NFBp5",
        "colab": {
          "base_uri": "https://localhost:8080/",
          "height": 364
        },
        "outputId": "094f653f-d848-4f52-a60a-b321e796143d"
      },
      "execution_count": 8,
      "outputs": [
        {
          "output_type": "execute_result",
          "data": {
            "text/plain": [
              "       account_length  number_vmail_messages  total_day_minutes  \\\n",
              "count     4250.000000            4250.000000        4250.000000   \n",
              "mean       100.236235               7.631765         180.259600   \n",
              "std         39.698401              13.439882          54.012373   \n",
              "min          1.000000               0.000000           0.000000   \n",
              "25%         73.000000               0.000000         143.325000   \n",
              "50%        100.000000               0.000000         180.450000   \n",
              "75%        127.000000              16.000000         216.200000   \n",
              "max        243.000000              52.000000         351.500000   \n",
              "\n",
              "       total_day_calls  total_day_charge  total_eve_minutes  total_eve_calls  \\\n",
              "count      4250.000000       4250.000000        4250.000000      4250.000000   \n",
              "mean         99.907294         30.644682         200.173906       100.176471   \n",
              "std          19.850817          9.182096          50.249518        19.908591   \n",
              "min           0.000000          0.000000           0.000000         0.000000   \n",
              "25%          87.000000         24.365000         165.925000        87.000000   \n",
              "50%         100.000000         30.680000         200.700000       100.000000   \n",
              "75%         113.000000         36.750000         233.775000       114.000000   \n",
              "max         165.000000         59.760000         359.300000       170.000000   \n",
              "\n",
              "       total_eve_charge  total_night_minutes  total_night_calls  \\\n",
              "count       4250.000000          4250.000000        4250.000000   \n",
              "mean          17.015012           200.527882          99.839529   \n",
              "std            4.271212            50.353548          20.093220   \n",
              "min            0.000000             0.000000           0.000000   \n",
              "25%           14.102500           167.225000          86.000000   \n",
              "50%           17.060000           200.450000         100.000000   \n",
              "75%           19.867500           234.700000         113.000000   \n",
              "max           30.540000           395.000000         175.000000   \n",
              "\n",
              "       total_night_charge  total_intl_minutes  total_intl_calls  \\\n",
              "count         4250.000000         4250.000000       4250.000000   \n",
              "mean             9.023892           10.256071          4.426353   \n",
              "std              2.265922            2.760102          2.463069   \n",
              "min              0.000000            0.000000          0.000000   \n",
              "25%              7.522500            8.500000          3.000000   \n",
              "50%              9.020000           10.300000          4.000000   \n",
              "75%             10.560000           12.000000          6.000000   \n",
              "max             17.770000           20.000000         20.000000   \n",
              "\n",
              "       total_intl_charge  number_customer_service_calls  \n",
              "count        4250.000000                    4250.000000  \n",
              "mean            2.769654                       1.559059  \n",
              "std             0.745204                       1.311434  \n",
              "min             0.000000                       0.000000  \n",
              "25%             2.300000                       1.000000  \n",
              "50%             2.780000                       1.000000  \n",
              "75%             3.240000                       2.000000  \n",
              "max             5.400000                       9.000000  "
            ],
            "text/html": [
              "\n",
              "  <div id=\"df-7ed743b4-0c84-45be-a39a-4e57608e4983\">\n",
              "    <div class=\"colab-df-container\">\n",
              "      <div>\n",
              "<style scoped>\n",
              "    .dataframe tbody tr th:only-of-type {\n",
              "        vertical-align: middle;\n",
              "    }\n",
              "\n",
              "    .dataframe tbody tr th {\n",
              "        vertical-align: top;\n",
              "    }\n",
              "\n",
              "    .dataframe thead th {\n",
              "        text-align: right;\n",
              "    }\n",
              "</style>\n",
              "<table border=\"1\" class=\"dataframe\">\n",
              "  <thead>\n",
              "    <tr style=\"text-align: right;\">\n",
              "      <th></th>\n",
              "      <th>account_length</th>\n",
              "      <th>number_vmail_messages</th>\n",
              "      <th>total_day_minutes</th>\n",
              "      <th>total_day_calls</th>\n",
              "      <th>total_day_charge</th>\n",
              "      <th>total_eve_minutes</th>\n",
              "      <th>total_eve_calls</th>\n",
              "      <th>total_eve_charge</th>\n",
              "      <th>total_night_minutes</th>\n",
              "      <th>total_night_calls</th>\n",
              "      <th>total_night_charge</th>\n",
              "      <th>total_intl_minutes</th>\n",
              "      <th>total_intl_calls</th>\n",
              "      <th>total_intl_charge</th>\n",
              "      <th>number_customer_service_calls</th>\n",
              "    </tr>\n",
              "  </thead>\n",
              "  <tbody>\n",
              "    <tr>\n",
              "      <th>count</th>\n",
              "      <td>4250.000000</td>\n",
              "      <td>4250.000000</td>\n",
              "      <td>4250.000000</td>\n",
              "      <td>4250.000000</td>\n",
              "      <td>4250.000000</td>\n",
              "      <td>4250.000000</td>\n",
              "      <td>4250.000000</td>\n",
              "      <td>4250.000000</td>\n",
              "      <td>4250.000000</td>\n",
              "      <td>4250.000000</td>\n",
              "      <td>4250.000000</td>\n",
              "      <td>4250.000000</td>\n",
              "      <td>4250.000000</td>\n",
              "      <td>4250.000000</td>\n",
              "      <td>4250.000000</td>\n",
              "    </tr>\n",
              "    <tr>\n",
              "      <th>mean</th>\n",
              "      <td>100.236235</td>\n",
              "      <td>7.631765</td>\n",
              "      <td>180.259600</td>\n",
              "      <td>99.907294</td>\n",
              "      <td>30.644682</td>\n",
              "      <td>200.173906</td>\n",
              "      <td>100.176471</td>\n",
              "      <td>17.015012</td>\n",
              "      <td>200.527882</td>\n",
              "      <td>99.839529</td>\n",
              "      <td>9.023892</td>\n",
              "      <td>10.256071</td>\n",
              "      <td>4.426353</td>\n",
              "      <td>2.769654</td>\n",
              "      <td>1.559059</td>\n",
              "    </tr>\n",
              "    <tr>\n",
              "      <th>std</th>\n",
              "      <td>39.698401</td>\n",
              "      <td>13.439882</td>\n",
              "      <td>54.012373</td>\n",
              "      <td>19.850817</td>\n",
              "      <td>9.182096</td>\n",
              "      <td>50.249518</td>\n",
              "      <td>19.908591</td>\n",
              "      <td>4.271212</td>\n",
              "      <td>50.353548</td>\n",
              "      <td>20.093220</td>\n",
              "      <td>2.265922</td>\n",
              "      <td>2.760102</td>\n",
              "      <td>2.463069</td>\n",
              "      <td>0.745204</td>\n",
              "      <td>1.311434</td>\n",
              "    </tr>\n",
              "    <tr>\n",
              "      <th>min</th>\n",
              "      <td>1.000000</td>\n",
              "      <td>0.000000</td>\n",
              "      <td>0.000000</td>\n",
              "      <td>0.000000</td>\n",
              "      <td>0.000000</td>\n",
              "      <td>0.000000</td>\n",
              "      <td>0.000000</td>\n",
              "      <td>0.000000</td>\n",
              "      <td>0.000000</td>\n",
              "      <td>0.000000</td>\n",
              "      <td>0.000000</td>\n",
              "      <td>0.000000</td>\n",
              "      <td>0.000000</td>\n",
              "      <td>0.000000</td>\n",
              "      <td>0.000000</td>\n",
              "    </tr>\n",
              "    <tr>\n",
              "      <th>25%</th>\n",
              "      <td>73.000000</td>\n",
              "      <td>0.000000</td>\n",
              "      <td>143.325000</td>\n",
              "      <td>87.000000</td>\n",
              "      <td>24.365000</td>\n",
              "      <td>165.925000</td>\n",
              "      <td>87.000000</td>\n",
              "      <td>14.102500</td>\n",
              "      <td>167.225000</td>\n",
              "      <td>86.000000</td>\n",
              "      <td>7.522500</td>\n",
              "      <td>8.500000</td>\n",
              "      <td>3.000000</td>\n",
              "      <td>2.300000</td>\n",
              "      <td>1.000000</td>\n",
              "    </tr>\n",
              "    <tr>\n",
              "      <th>50%</th>\n",
              "      <td>100.000000</td>\n",
              "      <td>0.000000</td>\n",
              "      <td>180.450000</td>\n",
              "      <td>100.000000</td>\n",
              "      <td>30.680000</td>\n",
              "      <td>200.700000</td>\n",
              "      <td>100.000000</td>\n",
              "      <td>17.060000</td>\n",
              "      <td>200.450000</td>\n",
              "      <td>100.000000</td>\n",
              "      <td>9.020000</td>\n",
              "      <td>10.300000</td>\n",
              "      <td>4.000000</td>\n",
              "      <td>2.780000</td>\n",
              "      <td>1.000000</td>\n",
              "    </tr>\n",
              "    <tr>\n",
              "      <th>75%</th>\n",
              "      <td>127.000000</td>\n",
              "      <td>16.000000</td>\n",
              "      <td>216.200000</td>\n",
              "      <td>113.000000</td>\n",
              "      <td>36.750000</td>\n",
              "      <td>233.775000</td>\n",
              "      <td>114.000000</td>\n",
              "      <td>19.867500</td>\n",
              "      <td>234.700000</td>\n",
              "      <td>113.000000</td>\n",
              "      <td>10.560000</td>\n",
              "      <td>12.000000</td>\n",
              "      <td>6.000000</td>\n",
              "      <td>3.240000</td>\n",
              "      <td>2.000000</td>\n",
              "    </tr>\n",
              "    <tr>\n",
              "      <th>max</th>\n",
              "      <td>243.000000</td>\n",
              "      <td>52.000000</td>\n",
              "      <td>351.500000</td>\n",
              "      <td>165.000000</td>\n",
              "      <td>59.760000</td>\n",
              "      <td>359.300000</td>\n",
              "      <td>170.000000</td>\n",
              "      <td>30.540000</td>\n",
              "      <td>395.000000</td>\n",
              "      <td>175.000000</td>\n",
              "      <td>17.770000</td>\n",
              "      <td>20.000000</td>\n",
              "      <td>20.000000</td>\n",
              "      <td>5.400000</td>\n",
              "      <td>9.000000</td>\n",
              "    </tr>\n",
              "  </tbody>\n",
              "</table>\n",
              "</div>\n",
              "      <button class=\"colab-df-convert\" onclick=\"convertToInteractive('df-7ed743b4-0c84-45be-a39a-4e57608e4983')\"\n",
              "              title=\"Convert this dataframe to an interactive table.\"\n",
              "              style=\"display:none;\">\n",
              "        \n",
              "  <svg xmlns=\"http://www.w3.org/2000/svg\" height=\"24px\"viewBox=\"0 0 24 24\"\n",
              "       width=\"24px\">\n",
              "    <path d=\"M0 0h24v24H0V0z\" fill=\"none\"/>\n",
              "    <path d=\"M18.56 5.44l.94 2.06.94-2.06 2.06-.94-2.06-.94-.94-2.06-.94 2.06-2.06.94zm-11 1L8.5 8.5l.94-2.06 2.06-.94-2.06-.94L8.5 2.5l-.94 2.06-2.06.94zm10 10l.94 2.06.94-2.06 2.06-.94-2.06-.94-.94-2.06-.94 2.06-2.06.94z\"/><path d=\"M17.41 7.96l-1.37-1.37c-.4-.4-.92-.59-1.43-.59-.52 0-1.04.2-1.43.59L10.3 9.45l-7.72 7.72c-.78.78-.78 2.05 0 2.83L4 21.41c.39.39.9.59 1.41.59.51 0 1.02-.2 1.41-.59l7.78-7.78 2.81-2.81c.8-.78.8-2.07 0-2.86zM5.41 20L4 18.59l7.72-7.72 1.47 1.35L5.41 20z\"/>\n",
              "  </svg>\n",
              "      </button>\n",
              "      \n",
              "  <style>\n",
              "    .colab-df-container {\n",
              "      display:flex;\n",
              "      flex-wrap:wrap;\n",
              "      gap: 12px;\n",
              "    }\n",
              "\n",
              "    .colab-df-convert {\n",
              "      background-color: #E8F0FE;\n",
              "      border: none;\n",
              "      border-radius: 50%;\n",
              "      cursor: pointer;\n",
              "      display: none;\n",
              "      fill: #1967D2;\n",
              "      height: 32px;\n",
              "      padding: 0 0 0 0;\n",
              "      width: 32px;\n",
              "    }\n",
              "\n",
              "    .colab-df-convert:hover {\n",
              "      background-color: #E2EBFA;\n",
              "      box-shadow: 0px 1px 2px rgba(60, 64, 67, 0.3), 0px 1px 3px 1px rgba(60, 64, 67, 0.15);\n",
              "      fill: #174EA6;\n",
              "    }\n",
              "\n",
              "    [theme=dark] .colab-df-convert {\n",
              "      background-color: #3B4455;\n",
              "      fill: #D2E3FC;\n",
              "    }\n",
              "\n",
              "    [theme=dark] .colab-df-convert:hover {\n",
              "      background-color: #434B5C;\n",
              "      box-shadow: 0px 1px 3px 1px rgba(0, 0, 0, 0.15);\n",
              "      filter: drop-shadow(0px 1px 2px rgba(0, 0, 0, 0.3));\n",
              "      fill: #FFFFFF;\n",
              "    }\n",
              "  </style>\n",
              "\n",
              "      <script>\n",
              "        const buttonEl =\n",
              "          document.querySelector('#df-7ed743b4-0c84-45be-a39a-4e57608e4983 button.colab-df-convert');\n",
              "        buttonEl.style.display =\n",
              "          google.colab.kernel.accessAllowed ? 'block' : 'none';\n",
              "\n",
              "        async function convertToInteractive(key) {\n",
              "          const element = document.querySelector('#df-7ed743b4-0c84-45be-a39a-4e57608e4983');\n",
              "          const dataTable =\n",
              "            await google.colab.kernel.invokeFunction('convertToInteractive',\n",
              "                                                     [key], {});\n",
              "          if (!dataTable) return;\n",
              "\n",
              "          const docLinkHtml = 'Like what you see? Visit the ' +\n",
              "            '<a target=\"_blank\" href=https://colab.research.google.com/notebooks/data_table.ipynb>data table notebook</a>'\n",
              "            + ' to learn more about interactive tables.';\n",
              "          element.innerHTML = '';\n",
              "          dataTable['output_type'] = 'display_data';\n",
              "          await google.colab.output.renderOutput(dataTable, element);\n",
              "          const docLink = document.createElement('div');\n",
              "          docLink.innerHTML = docLinkHtml;\n",
              "          element.appendChild(docLink);\n",
              "        }\n",
              "      </script>\n",
              "    </div>\n",
              "  </div>\n",
              "  "
            ]
          },
          "metadata": {},
          "execution_count": 8
        }
      ]
    },
    {
      "cell_type": "code",
      "source": [
        "#Checking for missing values\n",
        "df.isna().sum()"
      ],
      "metadata": {
        "id": "LktBiqv6FZi5",
        "colab": {
          "base_uri": "https://localhost:8080/"
        },
        "outputId": "242834eb-7287-49eb-9038-14dfb62c914e"
      },
      "execution_count": 9,
      "outputs": [
        {
          "output_type": "execute_result",
          "data": {
            "text/plain": [
              "state                            0\n",
              "account_length                   0\n",
              "area_code                        0\n",
              "international_plan               0\n",
              "voice_mail_plan                  0\n",
              "number_vmail_messages            0\n",
              "total_day_minutes                0\n",
              "total_day_calls                  0\n",
              "total_day_charge                 0\n",
              "total_eve_minutes                0\n",
              "total_eve_calls                  0\n",
              "total_eve_charge                 0\n",
              "total_night_minutes              0\n",
              "total_night_calls                0\n",
              "total_night_charge               0\n",
              "total_intl_minutes               0\n",
              "total_intl_calls                 0\n",
              "total_intl_charge                0\n",
              "number_customer_service_calls    0\n",
              "churn                            0\n",
              "dtype: int64"
            ]
          },
          "metadata": {},
          "execution_count": 9
        }
      ]
    },
    {
      "cell_type": "markdown",
      "source": [
        "##Data Visualizations\n",
        "* Exploratory (Univariate) Data Analysis\n",
        "* Explanatory (Multivariate) Data Analysis"
      ],
      "metadata": {
        "id": "RTX3qTM9Fkdf"
      }
    },
    {
      "cell_type": "markdown",
      "source": [
        "###Exploratory Data Analysis (EDA)"
      ],
      "metadata": {
        "id": "UrBQ7Sao-W7c"
      }
    },
    {
      "cell_type": "code",
      "source": [
        "df.columns"
      ],
      "metadata": {
        "colab": {
          "base_uri": "https://localhost:8080/"
        },
        "id": "ydU35fOXgFEs",
        "outputId": "a2cf277c-aae2-4251-ff8f-7381380dd92c"
      },
      "execution_count": 10,
      "outputs": [
        {
          "output_type": "execute_result",
          "data": {
            "text/plain": [
              "Index(['state', 'account_length', 'area_code', 'international_plan',\n",
              "       'voice_mail_plan', 'number_vmail_messages', 'total_day_minutes',\n",
              "       'total_day_calls', 'total_day_charge', 'total_eve_minutes',\n",
              "       'total_eve_calls', 'total_eve_charge', 'total_night_minutes',\n",
              "       'total_night_calls', 'total_night_charge', 'total_intl_minutes',\n",
              "       'total_intl_calls', 'total_intl_charge',\n",
              "       'number_customer_service_calls', 'churn'],\n",
              "      dtype='object')"
            ]
          },
          "metadata": {},
          "execution_count": 10
        }
      ]
    },
    {
      "cell_type": "code",
      "source": [
        "fig, ax = plt.subplots(figsize = (14, 10))\n",
        "\n",
        "sns.boxplot(data = df[[\"total_day_minutes\", \"total_eve_minutes\", \"total_night_minutes\", \"total_intl_minutes\"]])\n",
        "\n",
        "plt.title(\"# Minutes By Day, Evening, Night, and Int'l\")\n",
        "plt.xlabel(\"Minutes\")\n",
        "plt.ylabel(\"Total Minutes\")\n",
        "plt.grid(axis = \"y\")"
      ],
      "metadata": {
        "colab": {
          "base_uri": "https://localhost:8080/",
          "height": 622
        },
        "id": "hlCUn3vzkA2R",
        "outputId": "f511f0d3-e516-488c-e981-ea92cf27430e"
      },
      "execution_count": 11,
      "outputs": [
        {
          "output_type": "display_data",
          "data": {
            "text/plain": [
              "<Figure size 1008x720 with 1 Axes>"
            ],
            "image/png": "[encoded data removed]"
          },
          "metadata": {
            "needs_background": "light"
          }
        }
      ]
    },
    {
      "cell_type": "markdown",
      "source": [
        "The averages of minutes for day, evening, and night calls are roughly the same, around 200 total minutes per customers. There are a rather low number of international minutes being taken (< 50 overall)."
      ],
      "metadata": {
        "id": "Xhlg6BqisVmx"
      }
    },
    {
      "cell_type": "code",
      "source": [
        "fig, ax = plt.subplots(figsize = (14, 10))\n",
        "\n",
        "sns.boxplot(data = df[[\"total_day_calls\", \"total_eve_calls\", \"total_night_calls\", \"total_intl_calls\"]])\n",
        "\n",
        "plt.title(\"# Calls By Day, Evening, Night, and Int'l\")\n",
        "plt.xlabel(\"Total Calls\")\n",
        "plt.ylabel(\"Calls\")\n",
        "plt.grid(axis = \"y\")"
      ],
      "metadata": {
        "colab": {
          "base_uri": "https://localhost:8080/",
          "height": 622
        },
        "id": "knC_dsdEqVCd",
        "outputId": "9584b813-4429-42df-c14e-b9e3361013c3"
      },
      "execution_count": 12,
      "outputs": [
        {
          "output_type": "display_data",
          "data": {
            "text/plain": [
              "<Figure size 1008x720 with 1 Axes>"
            ],
            "image/png": "[encoded data removed]"
          },
          "metadata": {
            "needs_background": "light"
          }
        }
      ]
    },
    {
      "cell_type": "markdown",
      "source": [
        "This shows that the average number of calls was roughly the same for day, evening, and night calls. However, there was a much lower number of international calls. I might end up removing the number of international calls column as a result of the very low number on average of them. "
      ],
      "metadata": {
        "id": "MH6tsKXMtQPJ"
      }
    },
    {
      "cell_type": "code",
      "source": [
        "fig, ax = plt.subplots(figsize = (14, 10))\n",
        "\n",
        "sns.boxplot(data = df[[\"total_day_charge\", \"total_eve_charge\", \"total_night_charge\", \"total_intl_charge\"]])\n",
        "\n",
        "plt.title(\"Charge By Day, Evening, Night, and Int'l\")\n",
        "plt.xlabel(\"Charge\")\n",
        "plt.ylabel(\"Total Charge\")\n",
        "plt.grid(axis = \"y\")"
      ],
      "metadata": {
        "colab": {
          "base_uri": "https://localhost:8080/",
          "height": 622
        },
        "id": "IO-6CqGmqeuV",
        "outputId": "40e8a881-be1f-49d2-b914-2722b244d7bf"
      },
      "execution_count": 13,
      "outputs": [
        {
          "output_type": "display_data",
          "data": {
            "text/plain": [
              "<Figure size 1008x720 with 1 Axes>"
            ],
            "image/png": "[encoded data removed]"
          },
          "metadata": {
            "needs_background": "light"
          }
        }
      ]
    },
    {
      "cell_type": "markdown",
      "source": [
        "This shows that customers paid the most on average for day calls. They also paid the least for international calls."
      ],
      "metadata": {
        "id": "GMDulrIDtabn"
      }
    },
    {
      "cell_type": "code",
      "source": [
        "fig, ax = plt.subplots(figsize = (14, 10))\n",
        "\n",
        "sns.countplot(x = df[\"churn\"])\n",
        "plt.title(\"# of Customers that Churn vs. Don't Churn\")\n",
        "plt.xlabel(\" Did a Customer Churn?\")\n",
        "plt.ylabel(\"# Customers\")\n",
        "plt.grid(axis = \"y\")"
      ],
      "metadata": {
        "id": "8BaVYcnqN8Ya",
        "colab": {
          "base_uri": "https://localhost:8080/",
          "height": 621
        },
        "outputId": "ae475b52-3238-4d12-dbf2-2e6d5d4854d0"
      },
      "execution_count": 14,
      "outputs": [
        {
          "output_type": "display_data",
          "data": {
            "text/plain": [
              "<Figure size 1008x720 with 1 Axes>"
            ],
            "image/png": "[encoded data removed]"
          },
          "metadata": {
            "needs_background": "light"
          }
        }
      ]
    },
    {
      "cell_type": "markdown",
      "source": [
        "We can see here that the number of customers who churned were significantly less than those that did not churn. We should most likely stratify when we do a train-test split."
      ],
      "metadata": {
        "id": "03eUNrX4jJ6U"
      }
    },
    {
      "cell_type": "code",
      "source": [
        "fig, ax = plt.subplots(figsize = (14, 10))\n",
        "sns.countplot(data = df, x = \"number_customer_service_calls\", hue = \"churn\")\n",
        "\n",
        "plt.title(\"# of Customers that Churn or Not in relationship with # of Customer Service Calls\")\n",
        "plt.xlabel(\"# Customer Service Calls\")\n",
        "plt.ylabel(\"# Customers\")\n",
        "plt.grid(axis = \"y\")"
      ],
      "metadata": {
        "id": "ynWIT-ODI0If",
        "colab": {
          "base_uri": "https://localhost:8080/",
          "height": 621
        },
        "outputId": "21befe24-d352-4955-ec0b-9383afcc64f3"
      },
      "execution_count": 15,
      "outputs": [
        {
          "output_type": "display_data",
          "data": {
            "text/plain": [
              "<Figure size 1008x720 with 1 Axes>"
            ],
            "image/png": "[encoded data removed]"
          },
          "metadata": {
            "needs_background": "light"
          }
        }
      ]
    },
    {
      "cell_type": "markdown",
      "source": [
        "We can see here that some customers churn without making customer service calls. We can also see that there are less and less customers who make customer service calls after they make 1 customer service call. This seems to suggest that the more calls to customer service a customer makes, the more a customer is likely to churn."
      ],
      "metadata": {
        "id": "Je_WWkD5iXQQ"
      }
    },
    {
      "cell_type": "markdown",
      "source": [
        "### Explanatory Data Analysis"
      ],
      "metadata": {
        "id": "dglC3IzG-Vei"
      }
    },
    {
      "cell_type": "code",
      "source": [
        "df_eda = df.copy()"
      ],
      "metadata": {
        "id": "UApqG2_UCM0P"
      },
      "execution_count": 16,
      "outputs": []
    },
    {
      "cell_type": "code",
      "source": [
        "df_eda[\"churn\"] = df_eda[\"churn\"].replace({\"no\": 0, \"yes\": 1})\n",
        "df_eda[\"churn\"] = df_eda[\"churn\"].astype(int)"
      ],
      "metadata": {
        "id": "iFHqFW54CPVC"
      },
      "execution_count": 17,
      "outputs": []
    },
    {
      "cell_type": "code",
      "source": [
        "fig, ax = plt.subplots(figsize = (14,10))\n",
        "sns.heatmap(df_eda.corr(), cmap = 'Blues', annot = True, ax = ax)\n",
        "plt.title(\"Correlations between numerical values\")"
      ],
      "metadata": {
        "id": "sE7GlzDU_vLf",
        "colab": {
          "base_uri": "https://localhost:8080/",
          "height": 775
        },
        "outputId": "d7baeb64-bd35-4de9-a95d-3495ccbfc344"
      },
      "execution_count": 18,
      "outputs": [
        {
          "output_type": "execute_result",
          "data": {
            "text/plain": [
              "Text(0.5, 1.0, 'Correlations between numerical values')"
            ]
          },
          "metadata": {},
          "execution_count": 18
        },
        {
          "output_type": "display_data",
          "data": {
            "text/plain": [
              "<Figure size 1008x720 with 2 Axes>"
            ],
            "image/png": "[encoded data removed]"
          },
          "metadata": {
            "needs_background": "light"
          }
        }
      ]
    },
    {
      "cell_type": "markdown",
      "source": [
        "From the heatmap, we can see that there seems to be a correlation between whether a customer churns, the number of customer service calls the customer makes, and the total charge/minutes the customer makes per day.\n",
        "\n",
        "While there is a 1:1 correlation between certain variables, looking at the data dictionary shows that those correlations are between related variables (ex: # int'l minutes, and the charge for int'l minutes). There should be no need to show a 1:1 relationship like this."
      ],
      "metadata": {
        "id": "fxt0T3XfFFJ9"
      }
    },
    {
      "cell_type": "code",
      "source": [
        "fig, ax = plt.subplots(figsize = (14,10))\n",
        "\n",
        "sns.barplot(data = df_eda, x = \"number_customer_service_calls\", y = \"churn\", ci = None)\n",
        "\n",
        "plt.title(\"Churn based off of # of calls to customer service\")\n",
        "plt.xlabel(\"# Customer Service Calls\")\n",
        "plt.ylabel(\"% Churn\")\n",
        "plt.grid(axis = \"y\")"
      ],
      "metadata": {
        "id": "7GImQCyiu6tS",
        "colab": {
          "base_uri": "https://localhost:8080/",
          "height": 621
        },
        "outputId": "8ccfd72e-9d48-45b0-d0e4-b61379cb4cd2"
      },
      "execution_count": 19,
      "outputs": [
        {
          "output_type": "display_data",
          "data": {
            "text/plain": [
              "<Figure size 1008x720 with 1 Axes>"
            ],
            "image/png": "[encoded data removed]"
          },
          "metadata": {
            "needs_background": "light"
          }
        }
      ]
    },
    {
      "cell_type": "markdown",
      "source": [
        "We can see that after 3 customer service calls, the percentage of people who churn rises by above 30%. We also see that at 9 customer service calls, customers absolutely churn."
      ],
      "metadata": {
        "id": "RydLSHVEOauA"
      }
    },
    {
      "cell_type": "code",
      "source": [
        "#Demonstrate the relationship between churn and total day charge\n",
        "fig, ax = plt.subplots(figsize = (14,10))\n",
        "\n",
        "sns.barplot(data = df, x = \"churn\", y = \"total_day_charge\")\n",
        "\n",
        "plt.title(\"Churn based off of average total daily charge\")\n",
        "plt.xlabel(\"Churn\")\n",
        "plt.ylabel(\"Average Daily Charge\")\n",
        "plt.grid(axis = \"y\")"
      ],
      "metadata": {
        "id": "Pb7m6zqeFfB6",
        "colab": {
          "base_uri": "https://localhost:8080/",
          "height": 621
        },
        "outputId": "1d852e66-2580-495a-f851-abcc2526d95d"
      },
      "execution_count": 20,
      "outputs": [
        {
          "output_type": "display_data",
          "data": {
            "text/plain": [
              "<Figure size 1008x720 with 1 Axes>"
            ],
            "image/png": "[encoded data removed]"
          },
          "metadata": {
            "needs_background": "light"
          }
        }
      ]
    },
    {
      "cell_type": "markdown",
      "source": [
        "We can see that on average, customers that churn tend to pay more than customers who do not churn."
      ],
      "metadata": {
        "id": "QA2KIdjYObbR"
      }
    },
    {
      "cell_type": "code",
      "source": [
        "#Demonstrate the relationship between churn and total evening charge\n",
        "fig, ax = plt.subplots(figsize = (14,10))\n",
        "\n",
        "sns.barplot(data = df, x = \"churn\", y = \"total_eve_charge\")\n",
        "\n",
        "plt.title(\"Churn based off of average total evening charge\")\n",
        "plt.xlabel(\"Churn\")\n",
        "plt.ylabel(\"Average Evening Charge\")\n",
        "plt.grid(axis = \"y\")"
      ],
      "metadata": {
        "colab": {
          "base_uri": "https://localhost:8080/",
          "height": 621
        },
        "id": "XYAjHRNeaN0L",
        "outputId": "ed354ce6-8577-4503-a51c-d6a09b5cc5ba"
      },
      "execution_count": 21,
      "outputs": [
        {
          "output_type": "display_data",
          "data": {
            "text/plain": [
              "<Figure size 1008x720 with 1 Axes>"
            ],
            "image/png": "[encoded data removed]"
          },
          "metadata": {
            "needs_background": "light"
          }
        }
      ]
    },
    {
      "cell_type": "markdown",
      "source": [
        "We see that customers that do and do not churn, both pay roughly around $17.50"
      ],
      "metadata": {
        "id": "fVqqz0IBcQzf"
      }
    },
    {
      "cell_type": "code",
      "source": [
        "#Demonstrate the relationship between churn and total evening charge\n",
        "fig, ax = plt.subplots(figsize = (14,10))\n",
        "\n",
        "sns.barplot(data = df, x = \"churn\", y = \"total_night_charge\")\n",
        "\n",
        "plt.title(\"Churn based off of average total night charge\")\n",
        "plt.xlabel(\"Churn\")\n",
        "plt.ylabel(\"Average Night Charge\")\n",
        "plt.grid(axis = \"y\")"
      ],
      "metadata": {
        "colab": {
          "base_uri": "https://localhost:8080/",
          "height": 621
        },
        "id": "qauoDkoraVHJ",
        "outputId": "2778e2dc-7b42-4338-9ab9-5dab037004b8"
      },
      "execution_count": 22,
      "outputs": [
        {
          "output_type": "display_data",
          "data": {
            "text/plain": [
              "<Figure size 1008x720 with 1 Axes>"
            ],
            "image/png": "[encoded data removed]"
          },
          "metadata": {
            "needs_background": "light"
          }
        }
      ]
    },
    {
      "cell_type": "markdown",
      "source": [
        "We see that customers that do and do not churn, pay roughly around $9 on average."
      ],
      "metadata": {
        "id": "t7JkSa7ucZCY"
      }
    },
    {
      "cell_type": "markdown",
      "source": [
        "## Modelling\n",
        "\n",
        "* Model Validation Data Split\n",
        "* Preprocessing\n",
        "* Model #1\n",
        "  * Tune Model with GridSearchCV\n",
        "  * PCA\n",
        "* Model #2\n",
        "  * Tune Model with GridSearchCV\n",
        "  * PCA\n",
        "* Model Selection\n",
        "\n"
      ],
      "metadata": {
        "id": "-zEIGz9V-gmR"
      }
    },
    {
      "cell_type": "code",
      "source": [
        "## Define a function that takes in arguments and prints out a classification report and confusion matrix\n",
        "def evaluate_classification(model, X_test, y_test, cmap='Greens',\n",
        "                            normalize=None, classes=None, figsize=(20,5)):\n",
        "  \"\"\"Takes as arguments: a model, features, and labels\n",
        "  Prints a classification report, confusion matrix\n",
        "  Optional arguments: \n",
        "    cmap: colormap \n",
        "    normalize: confusion matrix normalization ['true', 'pred', 'all' or None]\n",
        "    classes: ordered list of class labels\n",
        "    figsize: size of figure\"\"\"\n",
        "  test_preds = model.predict(X_test)\n",
        "  print(metrics.classification_report(y_test, test_preds, \n",
        "                                      zero_division=0,\n",
        "                                      target_names=classes))\n",
        "  \n",
        "  ConfusionMatrixDisplay.from_estimator(model, X_test, y_test, cmap=cmap, \n",
        "                                display_labels=classes,\n",
        "                                normalize=normalize)\n",
        "  plt.show()"
      ],
      "metadata": {
        "id": "jPi_G97XIDRZ"
      },
      "execution_count": 23,
      "outputs": []
    },
    {
      "cell_type": "markdown",
      "source": [
        "### Model Validation Data Split"
      ],
      "metadata": {
        "id": "xD8OwR8X_5P2"
      }
    },
    {
      "cell_type": "code",
      "source": [
        "#Determining if there is proper balance of target values\n",
        "print(df[\"churn\"].value_counts(normalize = False))\n",
        "print(df[\"churn\"].value_counts(normalize = True))"
      ],
      "metadata": {
        "colab": {
          "base_uri": "https://localhost:8080/"
        },
        "id": "w_QRrO2WApIF",
        "outputId": "0c66963c-f76a-4b7f-8ece-9d7fa30d816e"
      },
      "execution_count": 24,
      "outputs": [
        {
          "output_type": "stream",
          "name": "stdout",
          "text": [
            "no     3652\n",
            "yes     598\n",
            "Name: churn, dtype: int64\n",
            "no     0.859294\n",
            "yes    0.140706\n",
            "Name: churn, dtype: float64\n"
          ]
        }
      ]
    },
    {
      "cell_type": "code",
      "source": [
        "#Preparing Data for split\n",
        "X = df.drop(columns = \"churn\")\n",
        "y = df[\"churn\"]\n",
        "\n",
        "#Splitting data, stratifying due to imbalance in target values\n",
        "X_train, X_test, y_train, y_test = train_test_split(X, y, stratify = y, random_state=42)"
      ],
      "metadata": {
        "id": "P7vKgvep_68Q"
      },
      "execution_count": 25,
      "outputs": []
    },
    {
      "cell_type": "markdown",
      "source": [
        "###Preprocessing\n",
        "* Creating Scaler, One Hot Encoder, and hard coding Ordinal data\n",
        "* Transforming columns\n",
        "* Creating Pipeline(s)"
      ],
      "metadata": {
        "id": "266YYsz6BMjh"
      }
    },
    {
      "cell_type": "code",
      "source": [
        "#Creating StandardScaler\n",
        "scaler = StandardScaler()\n",
        "\n",
        "#Creating column selector for numbers\n",
        "num_selector = make_column_selector(dtype_include='number')\n",
        "\n",
        "#Creating number tuple for later pipeline processing\n",
        "number_tuple = (scaler, num_selector)"
      ],
      "metadata": {
        "id": "C__lFkb3COd9"
      },
      "execution_count": 26,
      "outputs": []
    },
    {
      "cell_type": "code",
      "source": [
        "#Creating OneHotEncoder for categorical variables\n",
        "ohe = OneHotEncoder(sparse_output = False, handle_unknown='ignore')\n",
        "\n",
        "#Creating column selector for categoricals\n",
        "cat_selector = make_column_selector(dtype_include = \"object\")\n",
        "\n",
        "#Creating categorical tuple for later pipeline processing\n",
        "cat_tuple =  (ohe, cat_selector)"
      ],
      "metadata": {
        "id": "fqbHziPMCf6d"
      },
      "execution_count": 27,
      "outputs": []
    },
    {
      "cell_type": "code",
      "source": [
        "#Creating Preprocessor\n",
        "preprocessor = make_column_transformer(number_tuple,\n",
        "                                       cat_tuple,\n",
        "                                       remainder = \"drop\")"
      ],
      "metadata": {
        "id": "yq6WY3fGE_jf"
      },
      "execution_count": 28,
      "outputs": []
    },
    {
      "cell_type": "markdown",
      "source": [
        "### Model 1: Logistic Regression\n",
        "* Base Model\n",
        "* Model Tuned with GridSearch CV and PCA"
      ],
      "metadata": {
        "id": "j4J8Q_7LFcPj"
      }
    },
    {
      "cell_type": "markdown",
      "source": [
        "#### Base Model"
      ],
      "metadata": {
        "id": "p2Or1IlwGt0M"
      }
    },
    {
      "cell_type": "code",
      "source": [
        "#Creating Instance of Logistic Regression\n",
        "logreg = LogisticRegression()\n",
        "\n",
        "# Putting logreg and preprocessor into a pipeline\n",
        "logreg_pipe = make_pipeline(preprocessor, logreg)\n",
        "\n",
        "# Training the model on the data, storing the information learned from the data\n",
        "# Model is learning the relationship between X and y \n",
        "logreg_pipe.fit(X_train, y_train)\n",
        "\n",
        "## Display the Model's metrics\n",
        "evaluate_classification(logreg_pipe, X_test, y_test)"
      ],
      "metadata": {
        "colab": {
          "base_uri": "https://localhost:8080/",
          "height": 440
        },
        "id": "4ra8qea1G1EV",
        "outputId": "73ef4a74-d3d6-4eb1-a3c9-67ec3a7bdab5"
      },
      "execution_count": 29,
      "outputs": [
        {
          "output_type": "stream",
          "name": "stdout",
          "text": [
            "              precision    recall  f1-score   support\n",
            "\n",
            "          no       0.88      0.95      0.92       913\n",
            "         yes       0.45      0.23      0.31       150\n",
            "\n",
            "    accuracy                           0.85      1063\n",
            "   macro avg       0.67      0.59      0.61      1063\n",
            "weighted avg       0.82      0.85      0.83      1063\n",
            "\n"
          ]
        },
        {
          "output_type": "display_data",
          "data": {
            "text/plain": [
              "<Figure size 432x288 with 2 Axes>"
            ],
            "image/png": "[encoded data removed]"
          },
          "metadata": {
            "needs_background": "light"
          }
        }
      ]
    },
    {
      "cell_type": "markdown",
      "source": [
        "#### Tuned Model"
      ],
      "metadata": {
        "id": "I1_sXdFZGvZJ"
      }
    },
    {
      "cell_type": "code",
      "source": [
        "#Creating PCA, with emphasis on as high amount of accuracy as possible\n",
        "pca = PCA(n_components = 0.95)\n",
        "\n",
        "#Creating new pipelines for Tuning\n",
        "logregl1_tuned_pipe = make_pipeline(preprocessor, pca, LogisticRegression(penalty = \"l1\", solver = \"liblinear\"))\n",
        "logregl2_tuned_pipe = make_pipeline(preprocessor, pca, LogisticRegression(penalty = \"l2\"))\n",
        "\n",
        "#Getting list of params for tuning\n",
        "logregl1_tuned_pipe.get_params()"
      ],
      "metadata": {
        "colab": {
          "base_uri": "https://localhost:8080/"
        },
        "id": "AEkNNpy3GrPq",
        "outputId": "f0d85b85-516b-43ad-f463-907b68d18259"
      },
      "execution_count": 30,
      "outputs": [
        {
          "output_type": "execute_result",
          "data": {
            "text/plain": [
              "{'memory': None,\n",
              " 'steps': [('columntransformer',\n",
              "   ColumnTransformer(transformers=[('standardscaler', StandardScaler(),\n",
              "                                    <sklearn.compose._column_transformer.make_column_selector object at 0x7fa943dafcd0>),\n",
              "                                   ('onehotencoder',\n",
              "                                    OneHotEncoder(handle_unknown='ignore',\n",
              "                                                  sparse_output=False),\n",
              "                                    <sklearn.compose._column_transformer.make_column_selector object at 0x7fa94110bdc0>)])),\n",
              "  ('pca', PCA(n_components=0.95)),\n",
              "  ('logisticregression',\n",
              "   LogisticRegression(penalty='l1', solver='liblinear'))],\n",
              " 'verbose': False,\n",
              " 'columntransformer': ColumnTransformer(transformers=[('standardscaler', StandardScaler(),\n",
              "                                  <sklearn.compose._column_transformer.make_column_selector object at 0x7fa943dafcd0>),\n",
              "                                 ('onehotencoder',\n",
              "                                  OneHotEncoder(handle_unknown='ignore',\n",
              "                                                sparse_output=False),\n",
              "                                  <sklearn.compose._column_transformer.make_column_selector object at 0x7fa94110bdc0>)]),\n",
              " 'pca': PCA(n_components=0.95),\n",
              " 'logisticregression': LogisticRegression(penalty='l1', solver='liblinear'),\n",
              " 'columntransformer__n_jobs': None,\n",
              " 'columntransformer__remainder': 'drop',\n",
              " 'columntransformer__sparse_threshold': 0.3,\n",
              " 'columntransformer__transformer_weights': None,\n",
              " 'columntransformer__transformers': [('standardscaler',\n",
              "   StandardScaler(),\n",
              "   <sklearn.compose._column_transformer.make_column_selector at 0x7fa943dafcd0>),\n",
              "  ('onehotencoder',\n",
              "   OneHotEncoder(handle_unknown='ignore', sparse_output=False),\n",
              "   <sklearn.compose._column_transformer.make_column_selector at 0x7fa94110bdc0>)],\n",
              " 'columntransformer__verbose': False,\n",
              " 'columntransformer__verbose_feature_names_out': True,\n",
              " 'columntransformer__standardscaler': StandardScaler(),\n",
              " 'columntransformer__onehotencoder': OneHotEncoder(handle_unknown='ignore', sparse_output=False),\n",
              " 'columntransformer__standardscaler__copy': True,\n",
              " 'columntransformer__standardscaler__with_mean': True,\n",
              " 'columntransformer__standardscaler__with_std': True,\n",
              " 'columntransformer__onehotencoder__categories': 'auto',\n",
              " 'columntransformer__onehotencoder__drop': None,\n",
              " 'columntransformer__onehotencoder__dtype': numpy.float64,\n",
              " 'columntransformer__onehotencoder__handle_unknown': 'ignore',\n",
              " 'columntransformer__onehotencoder__max_categories': None,\n",
              " 'columntransformer__onehotencoder__min_frequency': None,\n",
              " 'columntransformer__onehotencoder__sparse': 'deprecated',\n",
              " 'columntransformer__onehotencoder__sparse_output': False,\n",
              " 'pca__copy': True,\n",
              " 'pca__iterated_power': 'auto',\n",
              " 'pca__n_components': 0.95,\n",
              " 'pca__n_oversamples': 10,\n",
              " 'pca__power_iteration_normalizer': 'auto',\n",
              " 'pca__random_state': None,\n",
              " 'pca__svd_solver': 'auto',\n",
              " 'pca__tol': 0.0,\n",
              " 'pca__whiten': False,\n",
              " 'logisticregression__C': 1.0,\n",
              " 'logisticregression__class_weight': None,\n",
              " 'logisticregression__dual': False,\n",
              " 'logisticregression__fit_intercept': True,\n",
              " 'logisticregression__intercept_scaling': 1,\n",
              " 'logisticregression__l1_ratio': None,\n",
              " 'logisticregression__max_iter': 100,\n",
              " 'logisticregression__multi_class': 'auto',\n",
              " 'logisticregression__n_jobs': None,\n",
              " 'logisticregression__penalty': 'l1',\n",
              " 'logisticregression__random_state': None,\n",
              " 'logisticregression__solver': 'liblinear',\n",
              " 'logisticregression__tol': 0.0001,\n",
              " 'logisticregression__verbose': 0,\n",
              " 'logisticregression__warm_start': False}"
            ]
          },
          "metadata": {},
          "execution_count": 30
        }
      ]
    },
    {
      "cell_type": "code",
      "source": [
        "\n",
        "c_values = []\n",
        "for i in range(-4, 3):\n",
        "  c_values.append(10**i)\n",
        "solverl2 = [\"newton-cg\", \"lbfgs\"]\n",
        "#Creating param_list\n",
        "param_gridl2 = {\n",
        "    'logisticregression__C': c_values,\n",
        "    'logisticregression__solver': solverl2\n",
        "}\n",
        "param_gridl1 = {'logisticregression__C': c_values}\n",
        "\n",
        "grid_pipel1 = GridSearchCV(logregl1_tuned_pipe, param_grid = param_gridl1)\n",
        "grid_pipel2 = GridSearchCV(logregl2_tuned_pipe, param_grid = param_gridl2)"
      ],
      "metadata": {
        "id": "JqHsAfEJKBa2"
      },
      "execution_count": 31,
      "outputs": []
    },
    {
      "cell_type": "code",
      "source": [
        "grid_pipel1.fit(X_train, y_train)\n",
        "grid_pipel2.fit(X_train, y_train)"
      ],
      "metadata": {
        "colab": {
          "base_uri": "https://localhost:8080/",
          "height": 253
        },
        "id": "CGGwPet2MBXM",
        "outputId": "8bab5855-eb04-4c4a-e32f-6a374c3d3a6b"
      },
      "execution_count": 32,
      "outputs": [
        {
          "output_type": "execute_result",
          "data": {
            "text/plain": [
              "GridSearchCV(estimator=Pipeline(steps=[('columntransformer',\n",
              "                                        ColumnTransformer(transformers=[('standardscaler',\n",
              "                                                                         StandardScaler(),\n",
              "                                                                         <sklearn.compose._column_transformer.make_column_selector object at 0x7fa943dafcd0>),\n",
              "                                                                        ('onehotencoder',\n",
              "                                                                         OneHotEncoder(handle_unknown='ignore',\n",
              "                                                                                       sparse_output=False),\n",
              "                                                                         <sklearn.compose._column_transformer.make_column_selector object at 0x7fa94110bdc0>)])),\n",
              "                                       ('pca', PCA(n_components=0.95)),\n",
              "                                       ('logisticregression',\n",
              "                                        LogisticRegression())]),\n",
              "             param_grid={'logisticregression__C': [0.0001, 0.001, 0.01, 0.1, 1,\n",
              "                                                   10, 100],\n",
              "                         'logisticregression__solver': ['newton-cg', 'lbfgs']})"
            ],
            "text/html": [
              "<style>#sk-container-id-1 {color: black;background-color: white;}#sk-container-id-1 pre{padding: 0;}#sk-container-id-1 div.sk-toggleable {background-color: white;}#sk-container-id-1 label.sk-toggleable__label {cursor: pointer;display: block;width: 100%;margin-bottom: 0;padding: 0.3em;box-sizing: border-box;text-align: center;}#sk-container-id-1 label.sk-toggleable__label-arrow:before {content: \"▸\";float: left;margin-right: 0.25em;color: #696969;}#sk-container-id-1 label.sk-toggleable__label-arrow:hover:before {color: black;}#sk-container-id-1 div.sk-estimator:hover label.sk-toggleable__label-arrow:before {color: black;}#sk-container-id-1 div.sk-toggleable__content {max-height: 0;max-width: 0;overflow: hidden;text-align: left;background-color: #f0f8ff;}#sk-container-id-1 div.sk-toggleable__content pre {margin: 0.2em;color: black;border-radius: 0.25em;background-color: #f0f8ff;}#sk-container-id-1 input.sk-toggleable__control:checked~div.sk-toggleable__content {max-height: 200px;max-width: 100%;overflow: auto;}#sk-container-id-1 input.sk-toggleable__control:checked~label.sk-toggleable__label-arrow:before {content: \"▾\";}#sk-container-id-1 div.sk-estimator input.sk-toggleable__control:checked~label.sk-toggleable__label {background-color: #d4ebff;}#sk-container-id-1 div.sk-label input.sk-toggleable__control:checked~label.sk-toggleable__label {background-color: #d4ebff;}#sk-container-id-1 input.sk-hidden--visually {border: 0;clip: rect(1px 1px 1px 1px);clip: rect(1px, 1px, 1px, 1px);height: 1px;margin: -1px;overflow: hidden;padding: 0;position: absolute;width: 1px;}#sk-container-id-1 div.sk-estimator {font-family: monospace;background-color: #f0f8ff;border: 1px dotted black;border-radius: 0.25em;box-sizing: border-box;margin-bottom: 0.5em;}#sk-container-id-1 div.sk-estimator:hover {background-color: #d4ebff;}#sk-container-id-1 div.sk-parallel-item::after {content: \"\";width: 100%;border-bottom: 1px solid gray;flex-grow: 1;}#sk-container-id-1 div.sk-label:hover label.sk-toggleable__label {background-color: #d4ebff;}#sk-container-id-1 div.sk-serial::before {content: \"\";position: absolute;border-left: 1px solid gray;box-sizing: border-box;top: 0;bottom: 0;left: 50%;z-index: 0;}#sk-container-id-1 div.sk-serial {display: flex;flex-direction: column;align-items: center;background-color: white;padding-right: 0.2em;padding-left: 0.2em;position: relative;}#sk-container-id-1 div.sk-item {position: relative;z-index: 1;}#sk-container-id-1 div.sk-parallel {display: flex;align-items: stretch;justify-content: center;background-color: white;position: relative;}#sk-container-id-1 div.sk-item::before, #sk-container-id-1 div.sk-parallel-item::before {content: \"\";position: absolute;border-left: 1px solid gray;box-sizing: border-box;top: 0;bottom: 0;left: 50%;z-index: -1;}#sk-container-id-1 div.sk-parallel-item {display: flex;flex-direction: column;z-index: 1;position: relative;background-color: white;}#sk-container-id-1 div.sk-parallel-item:first-child::after {align-self: flex-end;width: 50%;}#sk-container-id-1 div.sk-parallel-item:last-child::after {align-self: flex-start;width: 50%;}#sk-container-id-1 div.sk-parallel-item:only-child::after {width: 0;}#sk-container-id-1 div.sk-dashed-wrapped {border: 1px dashed gray;margin: 0 0.4em 0.5em 0.4em;box-sizing: border-box;padding-bottom: 0.4em;background-color: white;}#sk-container-id-1 div.sk-label label {font-family: monospace;font-weight: bold;display: inline-block;line-height: 1.2em;}#sk-container-id-1 div.sk-label-container {text-align: center;}#sk-container-id-1 div.sk-container {/* jupyter's `normalize.less` sets `[hidden] { display: none; }` but bootstrap.min.css set `[hidden] { display: none !important; }` so we also need the `!important` here to be able to override the default hidden behavior on the sphinx rendered scikit-learn.org. See: https://github.com/scikit-learn/scikit-learn/issues/21755 */display: inline-block !important;position: relative;}#sk-container-id-1 div.sk-text-repr-fallback {display: none;}</style><div id=\"sk-container-id-1\" class=\"sk-top-container\"><div class=\"sk-text-repr-fallback\"><pre>GridSearchCV(estimator=Pipeline(steps=[(&#x27;columntransformer&#x27;,\n",
              "                                        ColumnTransformer(transformers=[(&#x27;standardscaler&#x27;,\n",
              "                                                                         StandardScaler(),\n",
              "                                                                         &lt;sklearn.compose._column_transformer.make_column_selector object at 0x7fa943dafcd0&gt;),\n",
              "                                                                        (&#x27;onehotencoder&#x27;,\n",
              "                                                                         OneHotEncoder(handle_unknown=&#x27;ignore&#x27;,\n",
              "                                                                                       sparse_output=False),\n",
              "                                                                         &lt;sklearn.compose._column_transformer.make_column_selector object at 0x7fa94110bdc0&gt;)])),\n",
              "                                       (&#x27;pca&#x27;, PCA(n_components=0.95)),\n",
              "                                       (&#x27;logisticregression&#x27;,\n",
              "                                        LogisticRegression())]),\n",
              "             param_grid={&#x27;logisticregression__C&#x27;: [0.0001, 0.001, 0.01, 0.1, 1,\n",
              "                                                   10, 100],\n",
              "                         &#x27;logisticregression__solver&#x27;: [&#x27;newton-cg&#x27;, &#x27;lbfgs&#x27;]})</pre><b>In a Jupyter environment, please rerun this cell to show the HTML representation or trust the notebook. <br />On GitHub, the HTML representation is unable to render, please try loading this page with nbviewer.org.</b></div><div class=\"sk-container\" hidden><div class=\"sk-item sk-dashed-wrapped\"><div class=\"sk-label-container\"><div class=\"sk-label sk-toggleable\"><input class=\"sk-toggleable__control sk-hidden--visually\" id=\"sk-estimator-id-1\" type=\"checkbox\" ><label for=\"sk-estimator-id-1\" class=\"sk-toggleable__label sk-toggleable__label-arrow\">GridSearchCV</label><div class=\"sk-toggleable__content\"><pre>GridSearchCV(estimator=Pipeline(steps=[(&#x27;columntransformer&#x27;,\n",
              "                                        ColumnTransformer(transformers=[(&#x27;standardscaler&#x27;,\n",
              "                                                                         StandardScaler(),\n",
              "                                                                         &lt;sklearn.compose._column_transformer.make_column_selector object at 0x7fa943dafcd0&gt;),\n",
              "                                                                        (&#x27;onehotencoder&#x27;,\n",
              "                                                                         OneHotEncoder(handle_unknown=&#x27;ignore&#x27;,\n",
              "                                                                                       sparse_output=False),\n",
              "                                                                         &lt;sklearn.compose._column_transformer.make_column_selector object at 0x7fa94110bdc0&gt;)])),\n",
              "                                       (&#x27;pca&#x27;, PCA(n_components=0.95)),\n",
              "                                       (&#x27;logisticregression&#x27;,\n",
              "                                        LogisticRegression())]),\n",
              "             param_grid={&#x27;logisticregression__C&#x27;: [0.0001, 0.001, 0.01, 0.1, 1,\n",
              "                                                   10, 100],\n",
              "                         &#x27;logisticregression__solver&#x27;: [&#x27;newton-cg&#x27;, &#x27;lbfgs&#x27;]})</pre></div></div></div><div class=\"sk-parallel\"><div class=\"sk-parallel-item\"><div class=\"sk-item\"><div class=\"sk-label-container\"><div class=\"sk-label sk-toggleable\"><input class=\"sk-toggleable__control sk-hidden--visually\" id=\"sk-estimator-id-2\" type=\"checkbox\" ><label for=\"sk-estimator-id-2\" class=\"sk-toggleable__label sk-toggleable__label-arrow\">estimator: Pipeline</label><div class=\"sk-toggleable__content\"><pre>Pipeline(steps=[(&#x27;columntransformer&#x27;,\n",
              "                 ColumnTransformer(transformers=[(&#x27;standardscaler&#x27;,\n",
              "                                                  StandardScaler(),\n",
              "                                                  &lt;sklearn.compose._column_transformer.make_column_selector object at 0x7fa943dafcd0&gt;),\n",
              "                                                 (&#x27;onehotencoder&#x27;,\n",
              "                                                  OneHotEncoder(handle_unknown=&#x27;ignore&#x27;,\n",
              "                                                                sparse_output=False),\n",
              "                                                  &lt;sklearn.compose._column_transformer.make_column_selector object at 0x7fa94110bdc0&gt;)])),\n",
              "                (&#x27;pca&#x27;, PCA(n_components=0.95)),\n",
              "                (&#x27;logisticregression&#x27;, LogisticRegression())])</pre></div></div></div><div class=\"sk-serial\"><div class=\"sk-item\"><div class=\"sk-serial\"><div class=\"sk-item sk-dashed-wrapped\"><div class=\"sk-label-container\"><div class=\"sk-label sk-toggleable\"><input class=\"sk-toggleable__control sk-hidden--visually\" id=\"sk-estimator-id-3\" type=\"checkbox\" ><label for=\"sk-estimator-id-3\" class=\"sk-toggleable__label sk-toggleable__label-arrow\">columntransformer: ColumnTransformer</label><div class=\"sk-toggleable__content\"><pre>ColumnTransformer(transformers=[(&#x27;standardscaler&#x27;, StandardScaler(),\n",
              "                                 &lt;sklearn.compose._column_transformer.make_column_selector object at 0x7fa943dafcd0&gt;),\n",
              "                                (&#x27;onehotencoder&#x27;,\n",
              "                                 OneHotEncoder(handle_unknown=&#x27;ignore&#x27;,\n",
              "                                               sparse_output=False),\n",
              "                                 &lt;sklearn.compose._column_transformer.make_column_selector object at 0x7fa94110bdc0&gt;)])</pre></div></div></div><div class=\"sk-parallel\"><div class=\"sk-parallel-item\"><div class=\"sk-item\"><div class=\"sk-label-container\"><div class=\"sk-label sk-toggleable\"><input class=\"sk-toggleable__control sk-hidden--visually\" id=\"sk-estimator-id-4\" type=\"checkbox\" ><label for=\"sk-estimator-id-4\" class=\"sk-toggleable__label sk-toggleable__label-arrow\">standardscaler</label><div class=\"sk-toggleable__content\"><pre>&lt;sklearn.compose._column_transformer.make_column_selector object at 0x7fa943dafcd0&gt;</pre></div></div></div><div class=\"sk-serial\"><div class=\"sk-item\"><div class=\"sk-estimator sk-toggleable\"><input class=\"sk-toggleable__control sk-hidden--visually\" id=\"sk-estimator-id-5\" type=\"checkbox\" ><label for=\"sk-estimator-id-5\" class=\"sk-toggleable__label sk-toggleable__label-arrow\">StandardScaler</label><div class=\"sk-toggleable__content\"><pre>StandardScaler()</pre></div></div></div></div></div></div><div class=\"sk-parallel-item\"><div class=\"sk-item\"><div class=\"sk-label-container\"><div class=\"sk-label sk-toggleable\"><input class=\"sk-toggleable__control sk-hidden--visually\" id=\"sk-estimator-id-6\" type=\"checkbox\" ><label for=\"sk-estimator-id-6\" class=\"sk-toggleable__label sk-toggleable__label-arrow\">onehotencoder</label><div class=\"sk-toggleable__content\"><pre>&lt;sklearn.compose._column_transformer.make_column_selector object at 0x7fa94110bdc0&gt;</pre></div></div></div><div class=\"sk-serial\"><div class=\"sk-item\"><div class=\"sk-estimator sk-toggleable\"><input class=\"sk-toggleable__control sk-hidden--visually\" id=\"sk-estimator-id-7\" type=\"checkbox\" ><label for=\"sk-estimator-id-7\" class=\"sk-toggleable__label sk-toggleable__label-arrow\">OneHotEncoder</label><div class=\"sk-toggleable__content\"><pre>OneHotEncoder(handle_unknown=&#x27;ignore&#x27;, sparse_output=False)</pre></div></div></div></div></div></div></div></div><div class=\"sk-item\"><div class=\"sk-estimator sk-toggleable\"><input class=\"sk-toggleable__control sk-hidden--visually\" id=\"sk-estimator-id-8\" type=\"checkbox\" ><label for=\"sk-estimator-id-8\" class=\"sk-toggleable__label sk-toggleable__label-arrow\">PCA</label><div class=\"sk-toggleable__content\"><pre>PCA(n_components=0.95)</pre></div></div></div><div class=\"sk-item\"><div class=\"sk-estimator sk-toggleable\"><input class=\"sk-toggleable__control sk-hidden--visually\" id=\"sk-estimator-id-9\" type=\"checkbox\" ><label for=\"sk-estimator-id-9\" class=\"sk-toggleable__label sk-toggleable__label-arrow\">LogisticRegression</label><div class=\"sk-toggleable__content\"><pre>LogisticRegression()</pre></div></div></div></div></div></div></div></div></div></div></div></div>"
            ]
          },
          "metadata": {},
          "execution_count": 32
        }
      ]
    },
    {
      "cell_type": "code",
      "source": [
        "best_estimatorl1 = grid_pipel1.best_estimator_\n",
        "print(best_estimatorl1)"
      ],
      "metadata": {
        "colab": {
          "base_uri": "https://localhost:8080/"
        },
        "id": "HV7iZ2hmNRJK",
        "outputId": "23b411be-82a4-436b-bc4b-db6a5a939b86"
      },
      "execution_count": 33,
      "outputs": [
        {
          "output_type": "stream",
          "name": "stdout",
          "text": [
            "Pipeline(steps=[('columntransformer',\n",
            "                 ColumnTransformer(transformers=[('standardscaler',\n",
            "                                                  StandardScaler(),\n",
            "                                                  <sklearn.compose._column_transformer.make_column_selector object at 0x7fa940fdd760>),\n",
            "                                                 ('onehotencoder',\n",
            "                                                  OneHotEncoder(handle_unknown='ignore',\n",
            "                                                                sparse_output=False),\n",
            "                                                  <sklearn.compose._column_transformer.make_column_selector object at 0x7fa940fddb20>)])),\n",
            "                ('pca', PCA(n_components=0.95)),\n",
            "                ('logisticregression',\n",
            "                 LogisticRegression(C=0.1, penalty='l1', solver='liblinear'))])\n"
          ]
        }
      ]
    },
    {
      "cell_type": "code",
      "source": [
        "logregl1_tuned_pipe = make_pipeline(preprocessor, pca, LogisticRegression(C = 0.1, penalty = \"l1\", solver = \"liblinear\"))\n",
        "logregl1_tuned_pipe.fit(X_train, y_train)\n",
        "evaluate_classification(logregl1_tuned_pipe, X_test, y_test)"
      ],
      "metadata": {
        "colab": {
          "base_uri": "https://localhost:8080/",
          "height": 440
        },
        "id": "SsFbrpJCQl68",
        "outputId": "9d83fa3d-ef73-4dce-8d6d-16574b95fff5"
      },
      "execution_count": 34,
      "outputs": [
        {
          "output_type": "stream",
          "name": "stdout",
          "text": [
            "              precision    recall  f1-score   support\n",
            "\n",
            "          no       0.88      0.97      0.92       913\n",
            "         yes       0.49      0.18      0.26       150\n",
            "\n",
            "    accuracy                           0.86      1063\n",
            "   macro avg       0.68      0.57      0.59      1063\n",
            "weighted avg       0.82      0.86      0.83      1063\n",
            "\n"
          ]
        },
        {
          "output_type": "display_data",
          "data": {
            "text/plain": [
              "<Figure size 432x288 with 2 Axes>"
            ],
            "image/png": "[encoded data removed]"
          },
          "metadata": {
            "needs_background": "light"
          }
        }
      ]
    },
    {
      "cell_type": "code",
      "source": [
        "best_estimatorl2 = grid_pipel2.best_estimator_\n",
        "print(best_estimatorl2)"
      ],
      "metadata": {
        "colab": {
          "base_uri": "https://localhost:8080/"
        },
        "id": "M92ibJNxQWJB",
        "outputId": "af1862f0-b69c-4704-c61e-a7d67e60232c"
      },
      "execution_count": 35,
      "outputs": [
        {
          "output_type": "stream",
          "name": "stdout",
          "text": [
            "Pipeline(steps=[('columntransformer',\n",
            "                 ColumnTransformer(transformers=[('standardscaler',\n",
            "                                                  StandardScaler(),\n",
            "                                                  <sklearn.compose._column_transformer.make_column_selector object at 0x7fa940dfffd0>),\n",
            "                                                 ('onehotencoder',\n",
            "                                                  OneHotEncoder(handle_unknown='ignore',\n",
            "                                                                sparse_output=False),\n",
            "                                                  <sklearn.compose._column_transformer.make_column_selector object at 0x7fa940dff310>)])),\n",
            "                ('pca', PCA(n_components=0.95)),\n",
            "                ('logisticregression',\n",
            "                 LogisticRegression(C=0.1, solver='newton-cg'))])\n"
          ]
        }
      ]
    },
    {
      "cell_type": "code",
      "source": [
        "logregl2_tuned_pipe = make_pipeline(preprocessor, pca, LogisticRegression(C = 0.1, solver = \"newton-cg\", penalty = \"l2\"))\n",
        "logregl2_tuned_pipe.fit(X_train, y_train)\n",
        "evaluate_classification(logregl2_tuned_pipe, X_test, y_test)"
      ],
      "metadata": {
        "colab": {
          "base_uri": "https://localhost:8080/",
          "height": 440
        },
        "id": "ApS-PfiXQzuh",
        "outputId": "9518a3fa-9b1a-423b-ad1a-34fdfcbfe568"
      },
      "execution_count": 36,
      "outputs": [
        {
          "output_type": "stream",
          "name": "stdout",
          "text": [
            "              precision    recall  f1-score   support\n",
            "\n",
            "          no       0.88      0.96      0.92       913\n",
            "         yes       0.44      0.19      0.26       150\n",
            "\n",
            "    accuracy                           0.85      1063\n",
            "   macro avg       0.66      0.57      0.59      1063\n",
            "weighted avg       0.82      0.85      0.83      1063\n",
            "\n"
          ]
        },
        {
          "output_type": "display_data",
          "data": {
            "text/plain": [
              "<Figure size 432x288 with 2 Axes>"
            ],
            "image/png": "[encoded data removed]"
          },
          "metadata": {
            "needs_background": "light"
          }
        }
      ]
    },
    {
      "cell_type": "markdown",
      "source": [
        "### Model 2: Decision Tree\n",
        "* Base Model\n",
        "* Model Tuned with GridSearchCV and PCA"
      ],
      "metadata": {
        "id": "k5DA0rFeF17X"
      }
    },
    {
      "cell_type": "markdown",
      "source": [
        "#### Base Model"
      ],
      "metadata": {
        "id": "PK1UX8jZGxCl"
      }
    },
    {
      "cell_type": "code",
      "source": [
        "#Creating Decision Tree Classifier\n",
        "\n",
        "#model instance\n",
        "dec_tree = DecisionTreeClassifier(random_state = 42)\n",
        "\n",
        "dec_tree_pipe = make_pipeline(preprocessor, dec_tree)\n",
        "\n",
        "#fitting the model\n",
        "dec_tree_pipe.fit(X_train, y_train)\n",
        "\n",
        "evaluate_classification(dec_tree_pipe, X_test, y_test)"
      ],
      "metadata": {
        "colab": {
          "base_uri": "https://localhost:8080/",
          "height": 0
        },
        "id": "8aVeO2aBSIrG",
        "outputId": "4fddffd0-9fba-44e1-bf8d-af1801094578"
      },
      "execution_count": 37,
      "outputs": [
        {
          "output_type": "stream",
          "name": "stdout",
          "text": [
            "              precision    recall  f1-score   support\n",
            "\n",
            "          no       0.94      0.94      0.94       913\n",
            "         yes       0.65      0.66      0.66       150\n",
            "\n",
            "    accuracy                           0.90      1063\n",
            "   macro avg       0.80      0.80      0.80      1063\n",
            "weighted avg       0.90      0.90      0.90      1063\n",
            "\n"
          ]
        },
        {
          "output_type": "display_data",
          "data": {
            "text/plain": [
              "<Figure size 432x288 with 2 Axes>"
            ],
            "image/png": "[encoded data removed]"
          },
          "metadata": {
            "needs_background": "light"
          }
        }
      ]
    },
    {
      "cell_type": "markdown",
      "source": [
        "#### Tuned Model"
      ],
      "metadata": {
        "id": "1Mm9fWSsGycc"
      }
    },
    {
      "cell_type": "code",
      "source": [
        "#Creating PCA, with emphasis on as high amount of accuracy as possible\n",
        "pca = PCA(n_components = 0.95)\n",
        "\n",
        "#Creating new pipelines for Tuning\n",
        "dec_tree_tuned_pipe = make_pipeline(preprocessor, pca, dec_tree)\n",
        "\n",
        "#Getting list of params for tuning\n",
        "dec_tree_tuned_pipe.get_params()"
      ],
      "metadata": {
        "colab": {
          "base_uri": "https://localhost:8080/"
        },
        "id": "Lq6sxv5hS7wU",
        "outputId": "63fbc222-6ee8-44cb-dadd-47959603210b"
      },
      "execution_count": 38,
      "outputs": [
        {
          "output_type": "execute_result",
          "data": {
            "text/plain": [
              "{'memory': None,\n",
              " 'steps': [('columntransformer',\n",
              "   ColumnTransformer(transformers=[('standardscaler', StandardScaler(),\n",
              "                                    <sklearn.compose._column_transformer.make_column_selector object at 0x7fa943dafcd0>),\n",
              "                                   ('onehotencoder',\n",
              "                                    OneHotEncoder(handle_unknown='ignore',\n",
              "                                                  sparse_output=False),\n",
              "                                    <sklearn.compose._column_transformer.make_column_selector object at 0x7fa94110bdc0>)])),\n",
              "  ('pca', PCA(n_components=0.95)),\n",
              "  ('decisiontreeclassifier', DecisionTreeClassifier(random_state=42))],\n",
              " 'verbose': False,\n",
              " 'columntransformer': ColumnTransformer(transformers=[('standardscaler', StandardScaler(),\n",
              "                                  <sklearn.compose._column_transformer.make_column_selector object at 0x7fa943dafcd0>),\n",
              "                                 ('onehotencoder',\n",
              "                                  OneHotEncoder(handle_unknown='ignore',\n",
              "                                                sparse_output=False),\n",
              "                                  <sklearn.compose._column_transformer.make_column_selector object at 0x7fa94110bdc0>)]),\n",
              " 'pca': PCA(n_components=0.95),\n",
              " 'decisiontreeclassifier': DecisionTreeClassifier(random_state=42),\n",
              " 'columntransformer__n_jobs': None,\n",
              " 'columntransformer__remainder': 'drop',\n",
              " 'columntransformer__sparse_threshold': 0.3,\n",
              " 'columntransformer__transformer_weights': None,\n",
              " 'columntransformer__transformers': [('standardscaler',\n",
              "   StandardScaler(),\n",
              "   <sklearn.compose._column_transformer.make_column_selector at 0x7fa943dafcd0>),\n",
              "  ('onehotencoder',\n",
              "   OneHotEncoder(handle_unknown='ignore', sparse_output=False),\n",
              "   <sklearn.compose._column_transformer.make_column_selector at 0x7fa94110bdc0>)],\n",
              " 'columntransformer__verbose': False,\n",
              " 'columntransformer__verbose_feature_names_out': True,\n",
              " 'columntransformer__standardscaler': StandardScaler(),\n",
              " 'columntransformer__onehotencoder': OneHotEncoder(handle_unknown='ignore', sparse_output=False),\n",
              " 'columntransformer__standardscaler__copy': True,\n",
              " 'columntransformer__standardscaler__with_mean': True,\n",
              " 'columntransformer__standardscaler__with_std': True,\n",
              " 'columntransformer__onehotencoder__categories': 'auto',\n",
              " 'columntransformer__onehotencoder__drop': None,\n",
              " 'columntransformer__onehotencoder__dtype': numpy.float64,\n",
              " 'columntransformer__onehotencoder__handle_unknown': 'ignore',\n",
              " 'columntransformer__onehotencoder__max_categories': None,\n",
              " 'columntransformer__onehotencoder__min_frequency': None,\n",
              " 'columntransformer__onehotencoder__sparse': 'deprecated',\n",
              " 'columntransformer__onehotencoder__sparse_output': False,\n",
              " 'pca__copy': True,\n",
              " 'pca__iterated_power': 'auto',\n",
              " 'pca__n_components': 0.95,\n",
              " 'pca__n_oversamples': 10,\n",
              " 'pca__power_iteration_normalizer': 'auto',\n",
              " 'pca__random_state': None,\n",
              " 'pca__svd_solver': 'auto',\n",
              " 'pca__tol': 0.0,\n",
              " 'pca__whiten': False,\n",
              " 'decisiontreeclassifier__ccp_alpha': 0.0,\n",
              " 'decisiontreeclassifier__class_weight': None,\n",
              " 'decisiontreeclassifier__criterion': 'gini',\n",
              " 'decisiontreeclassifier__max_depth': None,\n",
              " 'decisiontreeclassifier__max_features': None,\n",
              " 'decisiontreeclassifier__max_leaf_nodes': None,\n",
              " 'decisiontreeclassifier__min_impurity_decrease': 0.0,\n",
              " 'decisiontreeclassifier__min_samples_leaf': 1,\n",
              " 'decisiontreeclassifier__min_samples_split': 2,\n",
              " 'decisiontreeclassifier__min_weight_fraction_leaf': 0.0,\n",
              " 'decisiontreeclassifier__random_state': 42,\n",
              " 'decisiontreeclassifier__splitter': 'best'}"
            ]
          },
          "metadata": {},
          "execution_count": 38
        }
      ]
    },
    {
      "cell_type": "code",
      "source": [
        "#Creating param_list\n",
        "param_grid = {\n",
        "    'decisiontreeclassifier__max_depth': range(10,100, 10),\n",
        "    'decisiontreeclassifier__max_leaf_nodes': range(30,300,10),\n",
        "}\n",
        "\n",
        "grid_pipe = GridSearchCV(dec_tree_tuned_pipe, param_grid = param_grid)\n"
      ],
      "metadata": {
        "id": "K1qxvebbT9tl"
      },
      "execution_count": 39,
      "outputs": []
    },
    {
      "cell_type": "code",
      "source": [
        "grid_pipe.fit(X_train, y_train)"
      ],
      "metadata": {
        "id": "HpPrQlP3Ub-r"
      },
      "execution_count": null,
      "outputs": []
    },
    {
      "cell_type": "code",
      "source": [
        "best_estimator = grid_pipe.best_estimator_\n",
        "print(best_estimator)"
      ],
      "metadata": {
        "id": "nEAHQHdoUf4Y"
      },
      "execution_count": null,
      "outputs": []
    },
    {
      "cell_type": "code",
      "source": [
        "#Tuned model Instance\n",
        "dec_tree = DecisionTreeClassifier(max_depth = 20, max_leaf_nodes = 50, random_state = 42)\n",
        "\n",
        "dec_tree_pipe = make_pipeline(preprocessor, dec_tree)\n",
        "\n",
        "#fitting the model\n",
        "dec_tree_pipe.fit(X_train, y_train)\n",
        "\n",
        "evaluate_classification(dec_tree_pipe, X_test, y_test)"
      ],
      "metadata": {
        "id": "WFHnVdloUnmw"
      },
      "execution_count": null,
      "outputs": []
    },
    {
      "cell_type": "markdown",
      "source": [
        "###Model Selection"
      ],
      "metadata": {
        "id": "DAPDqMVRU51L"
      }
    },
    {
      "cell_type": "code",
      "source": [
        "#l1 Logistic Regression Model\n",
        "evaluate_classification(logregl1_tuned_pipe, X_test, y_test)"
      ],
      "metadata": {
        "id": "DjYtArckWH1H"
      },
      "execution_count": null,
      "outputs": []
    },
    {
      "cell_type": "code",
      "source": [
        "#Decision Tree Model\n",
        "evaluate_classification(dec_tree_pipe, X_test, y_test)"
      ],
      "metadata": {
        "id": "tgPScIIZU7s1"
      },
      "execution_count": null,
      "outputs": []
    },
    {
      "cell_type": "markdown",
      "source": [
        "#### <center>Justification</center>\n",
        "When determining whether a customer will churn, I believe the client is most interested in accuracy. Therefore the basic decision tree model, which has the highest accuracy (at 94%), is chosen."
      ],
      "metadata": {
        "id": "yCFfD_CLU9k8"
      }
    }
  ]
}